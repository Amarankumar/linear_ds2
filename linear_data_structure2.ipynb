{
 "cells": [
  {
   "cell_type": "markdown",
   "id": "e3e315d6",
   "metadata": {},
   "source": [
    "# Linear Data Structure Assignment 2"
   ]
  },
  {
   "cell_type": "code",
   "execution_count": null,
   "id": "cca8d78b",
   "metadata": {},
   "outputs": [],
   "source": [
    "1.Delete the elements in an linked list whose sum is equal to zero"
   ]
  },
  {
   "cell_type": "code",
   "execution_count": 1,
   "id": "1cbdb31e",
   "metadata": {},
   "outputs": [
    {
     "name": "stdout",
     "output_type": "stream",
     "text": [
      "Original Linked List:\n",
      "4 -> -2 -> -3 -> 1 -> 6 -> -1 -> 2 -> None\n",
      "Linked List after Deleting Nodes with Zero Sum:\n",
      "6 -> -1 -> 2 -> None\n"
     ]
    }
   ],
   "source": [
    "class Node:\n",
    "    def __init__(self, data):\n",
    "        self.data = data\n",
    "        self.next = None\n",
    "\n",
    "class LinkedList:\n",
    "    def __init__(self):\n",
    "        self.head = None\n",
    "\n",
    "    def insert(self, data):\n",
    "        new_node = Node(data)\n",
    "        if self.head is None:\n",
    "            self.head = new_node\n",
    "        else:\n",
    "            current = self.head\n",
    "            while current.next:\n",
    "                current = current.next\n",
    "            current.next = new_node\n",
    "\n",
    "    def display(self):\n",
    "        current = self.head\n",
    "        while current:\n",
    "            print(current.data, end=\" -> \")\n",
    "            current = current.next\n",
    "        print(\"None\")\n",
    "\n",
    "    def delete_zero_sum(self):\n",
    "        current = self.head\n",
    "        while current:\n",
    "            temp_sum = 0\n",
    "            node = current\n",
    "            while node:\n",
    "                temp_sum += node.data\n",
    "                if temp_sum == 0:\n",
    "                    self.delete_nodes_in_range(current, node)\n",
    "                    break\n",
    "                node = node.next\n",
    "            current = current.next\n",
    "\n",
    "    def delete_nodes_in_range(self, start, end):\n",
    "        prev = None\n",
    "        current = start\n",
    "        while current != end.next:\n",
    "            temp = current.next\n",
    "            if prev:\n",
    "                prev.next = temp\n",
    "            else:\n",
    "                self.head = temp\n",
    "            current = temp\n",
    "\n",
    "if __name__ == \"__main__\":\n",
    "    linked_list = LinkedList()\n",
    "    elements = [4, -2, -3, 1, 6, -1, 2]\n",
    "    for elem in elements:\n",
    "        linked_list.insert(elem)\n",
    "\n",
    "    print(\"Original Linked List:\")\n",
    "    linked_list.display()\n",
    "\n",
    "    linked_list.delete_zero_sum()\n",
    "\n",
    "    print(\"Linked List after Deleting Nodes with Zero Sum:\")\n",
    "    linked_list.display()\n"
   ]
  },
  {
   "cell_type": "markdown",
   "id": "c2f8fbb5",
   "metadata": {},
   "source": [
    "2.Reverse a linked list in groups of given size"
   ]
  },
  {
   "cell_type": "code",
   "execution_count": 2,
   "id": "94c0d0de",
   "metadata": {},
   "outputs": [
    {
     "name": "stdout",
     "output_type": "stream",
     "text": [
      "Original Linked List:\n",
      "1 -> 2 -> 3 -> 4 -> 5 -> 6 -> 7 -> 8 -> 9 -> None\n",
      "Linked List after reversing in groups of 3:\n",
      "3 -> 2 -> 1 -> 6 -> 5 -> 4 -> 9 -> 8 -> 7 -> None\n"
     ]
    }
   ],
   "source": [
    "class Node:\n",
    "    def __init__(self, data):\n",
    "        self.data = data\n",
    "        self.next = None\n",
    "\n",
    "class LinkedList:\n",
    "    def __init__(self):\n",
    "        self.head = None\n",
    "\n",
    "    def insert(self, data):\n",
    "        new_node = Node(data)\n",
    "        if self.head is None:\n",
    "            self.head = new_node\n",
    "        else:\n",
    "            current = self.head\n",
    "            while current.next:\n",
    "                current = current.next\n",
    "            current.next = new_node\n",
    "\n",
    "    def display(self):\n",
    "        current = self.head\n",
    "        while current:\n",
    "            print(current.data, end=\" -> \")\n",
    "            current = current.next\n",
    "        print(\"None\")\n",
    "\n",
    "    def reverse_in_groups(self, size):\n",
    "        self.head = self.reverse_in_groups_util(self.head, size)\n",
    "\n",
    "    def reverse_in_groups_util(self, head, size):\n",
    "        current = head\n",
    "        prev = None\n",
    "        next_node = None\n",
    "        count = 0\n",
    "        while current is not None and count < size:\n",
    "            next_node = current.next\n",
    "            current.next = prev\n",
    "            prev = current\n",
    "            current = next_node\n",
    "            count += 1\n",
    "        if next_node is not None:\n",
    "            head.next = self.reverse_in_groups_util(next_node, size)\n",
    "        return prev\n",
    "if __name__ == \"__main__\":\n",
    "    linked_list = LinkedList()\n",
    "    elements = [1, 2, 3, 4, 5, 6, 7, 8, 9]\n",
    "    for elem in elements:\n",
    "        linked_list.insert(elem)\n",
    "\n",
    "    print(\"Original Linked List:\")\n",
    "    linked_list.display()\n",
    "\n",
    "    group_size = 3\n",
    "    linked_list.reverse_in_groups(group_size)\n",
    "\n",
    "    print(f\"Linked List after reversing in groups of {group_size}:\")\n",
    "    linked_list.display()\n"
   ]
  },
  {
   "cell_type": "markdown",
   "id": "ff57b333",
   "metadata": {},
   "source": [
    "3.Merge a linked list into another linked list at alternate positions."
   ]
  },
  {
   "cell_type": "code",
   "execution_count": 3,
   "id": "b190d116",
   "metadata": {},
   "outputs": [
    {
     "name": "stdout",
     "output_type": "stream",
     "text": [
      "Original Linked List 1:\n",
      "1 -> 3 -> 5 -> 7 -> None\n",
      "Original Linked List 2:\n",
      "2 -> 4 -> 6 -> 8 -> 10 -> None\n",
      "Merged Linked List:\n",
      "1 -> 2 -> 3 -> 4 -> 5 -> 6 -> 7 -> 8 -> None\n"
     ]
    }
   ],
   "source": [
    "class Node:\n",
    "    def __init__(self, data):\n",
    "        self.data = data\n",
    "        self.next = None\n",
    "\n",
    "class LinkedList:\n",
    "    def __init__(self):\n",
    "        self.head = None\n",
    "\n",
    "    def insert(self, data):\n",
    "        new_node = Node(data)\n",
    "        if self.head is None:\n",
    "            self.head = new_node\n",
    "        else:\n",
    "            current = self.head\n",
    "            while current.next:\n",
    "                current = current.next\n",
    "            current.next = new_node\n",
    "\n",
    "    def display(self):\n",
    "        current = self.head\n",
    "        while current:\n",
    "            print(current.data, end=\" -> \")\n",
    "            current = current.next\n",
    "        print(\"None\")\n",
    "\n",
    "    def merge_alternate(self, other_list):\n",
    "        if not other_list.head:\n",
    "            return\n",
    "\n",
    "        current1 = self.head\n",
    "        current2 = other_list.head\n",
    "\n",
    "        while current1 and current2:\n",
    "            next1 = current1.next\n",
    "            next2 = current2.next\n",
    "\n",
    "            current1.next = current2\n",
    "            current2.next = next1\n",
    "\n",
    "            current1 = next1\n",
    "            current2 = next2\n",
    "\n",
    "        other_list.head = None \n",
    "if __name__ == \"__main__\":\n",
    "    linked_list1 = LinkedList()\n",
    "    elements1 = [1, 3, 5, 7]\n",
    "    for elem in elements1:\n",
    "        linked_list1.insert(elem)\n",
    "\n",
    "    linked_list2 = LinkedList()\n",
    "    elements2 = [2, 4, 6, 8, 10]\n",
    "    for elem in elements2:\n",
    "        linked_list2.insert(elem)\n",
    "\n",
    "    print(\"Original Linked List 1:\")\n",
    "    linked_list1.display()\n",
    "\n",
    "    print(\"Original Linked List 2:\")\n",
    "    linked_list2.display()\n",
    "\n",
    "    linked_list1.merge_alternate(linked_list2)\n",
    "\n",
    "    print(\"Merged Linked List:\")\n",
    "    linked_list1.display()\n"
   ]
  },
  {
   "cell_type": "markdown",
   "id": "443985da",
   "metadata": {},
   "source": [
    "4.In an array, Count Pairs with given sum"
   ]
  },
  {
   "cell_type": "code",
   "execution_count": 4,
   "id": "7d3e199f",
   "metadata": {},
   "outputs": [
    {
     "name": "stdout",
     "output_type": "stream",
     "text": [
      "Number of pairs with the sum 6: 3\n"
     ]
    }
   ],
   "source": [
    "def count_pairs_with_sum(arr, target_sum):\n",
    "    count = 0\n",
    "    num_freq = {}  \n",
    "\n",
    "    for num in arr:\n",
    "        complement = target_sum - num\n",
    "        if complement in num_freq:\n",
    "            count += num_freq[complement]\n",
    "        num_freq[num] = num_freq.get(num, 0) + 1\n",
    "\n",
    "    return count\n",
    "\n",
    "if __name__ == \"__main__\":\n",
    "    arr = [1, 5, 7, -1, 5]\n",
    "    target_sum = 6\n",
    "    result = count_pairs_with_sum(arr, target_sum)\n",
    "    print(f\"Number of pairs with the sum {target_sum}: {result}\")\n"
   ]
  },
  {
   "cell_type": "markdown",
   "id": "990db80d",
   "metadata": {},
   "source": [
    "5.Find duplicates in an array"
   ]
  },
  {
   "cell_type": "code",
   "execution_count": 5,
   "id": "6d3eae3f",
   "metadata": {},
   "outputs": [
    {
     "name": "stdout",
     "output_type": "stream",
     "text": [
      "Duplicates in the array: [1, 2, 3]\n"
     ]
    }
   ],
   "source": [
    "def find_duplicates(arr):\n",
    "    duplicates = set()\n",
    "    seen = set()\n",
    "\n",
    "    for num in arr:\n",
    "        if num in seen:\n",
    "            duplicates.add(num)\n",
    "        else:\n",
    "            seen.add(num)\n",
    "\n",
    "    return list(duplicates)\n",
    "\n",
    "if __name__ == \"__main__\":\n",
    "    arr = [1, 2, 3, 4, 2, 5, 6, 3, 7, 8, 1, 9]\n",
    "    duplicates = find_duplicates(arr)\n",
    "    print(\"Duplicates in the array:\", duplicates)\n"
   ]
  },
  {
   "cell_type": "markdown",
   "id": "9c02d257",
   "metadata": {},
   "source": [
    "6.Find the Kth largest and Kth smallest number in an array"
   ]
  },
  {
   "cell_type": "code",
   "execution_count": 6,
   "id": "06b595fb",
   "metadata": {},
   "outputs": [
    {
     "name": "stdout",
     "output_type": "stream",
     "text": [
      "3th Largest number: 6\n",
      "3th Smallest number: 3\n"
     ]
    }
   ],
   "source": [
    "def find_kth_largest_smallest_sort(arr, k):\n",
    "    arr.sort()\n",
    "    kth_largest = arr[-k]\n",
    "    kth_smallest = arr[k - 1]\n",
    "    return kth_largest, kth_smallest\n",
    "\n",
    "if __name__ == \"__main__\":\n",
    "    arr = [3, 1, 5, 2, 4, 6, 8, 7]\n",
    "    k = 3\n",
    "    kth_largest, kth_smallest = find_kth_largest_smallest_sort(arr, k)\n",
    "    print(f\"{k}th Largest number: {kth_largest}\")\n",
    "    print(f\"{k}th Smallest number: {kth_smallest}\")\n"
   ]
  },
  {
   "cell_type": "markdown",
   "id": "a301319d",
   "metadata": {},
   "source": [
    "7.Move all the negative elements to one side of the array"
   ]
  },
  {
   "cell_type": "code",
   "execution_count": 7,
   "id": "76e3fa4a",
   "metadata": {},
   "outputs": [
    {
     "name": "stdout",
     "output_type": "stream",
     "text": [
      "Original Array: [1, -3, 5, 2, -4, -6, 8, -7]\n",
      "Array with negatives on one side: [1, 8, 5, 2, -4, -6, -3, -7]\n"
     ]
    }
   ],
   "source": [
    "def move_negatives_to_one_side(arr):\n",
    "    left = 0\n",
    "    right = len(arr) - 1\n",
    "\n",
    "    while left <= right:\n",
    "        if arr[left] < 0 and arr[right] >= 0:\n",
    "            arr[left], arr[right] = arr[right], arr[left]\n",
    "            left += 1\n",
    "            right -= 1\n",
    "        elif arr[left] >= 0:\n",
    "            left += 1\n",
    "        elif arr[right] < 0:\n",
    "            right -= 1\n",
    "\n",
    "if __name__ == \"__main__\":\n",
    "    arr = [1, -3, 5, 2, -4, -6, 8, -7]\n",
    "    print(\"Original Array:\", arr)\n",
    "    \n",
    "    move_negatives_to_one_side(arr)\n",
    "    print(\"Array with negatives on one side:\", arr)\n"
   ]
  },
  {
   "cell_type": "markdown",
   "id": "034540a7",
   "metadata": {},
   "source": [
    "8.Reverse a string using a stack data structure"
   ]
  },
  {
   "cell_type": "code",
   "execution_count": 8,
   "id": "7a9b2edc",
   "metadata": {},
   "outputs": [
    {
     "name": "stdout",
     "output_type": "stream",
     "text": [
      "Original String: Hello, World!\n",
      "Reversed String: !dlroW ,olleH\n"
     ]
    }
   ],
   "source": [
    "class Stack:\n",
    "    def __init__(self):\n",
    "        self.items = []\n",
    "\n",
    "    def push(self, item):\n",
    "        self.items.append(item)\n",
    "\n",
    "    def pop(self):\n",
    "        if not self.is_empty():\n",
    "            return self.items.pop()\n",
    "    def is_empty(self):\n",
    "        return len(self.items) == 0\n",
    "def reverse_string(input_string):\n",
    "    stack = Stack()\n",
    "    reversed_string = \"\"\n",
    "    for char in input_string:\n",
    "        stack.push(char)\n",
    "    while not stack.is_empty():\n",
    "        reversed_string += stack.pop()\n",
    "\n",
    "    return reversed_string\n",
    "\n",
    "if __name__ == \"__main__\":\n",
    "    input_string = \"Hello, World!\"\n",
    "    reversed_str = reverse_string(input_string)\n",
    "    print(\"Original String:\", input_string)\n",
    "    print(\"Reversed String:\", reversed_str)\n"
   ]
  },
  {
   "cell_type": "markdown",
   "id": "9d86a43f",
   "metadata": {},
   "source": [
    "9.Evaluate a postfix expression using stack"
   ]
  },
  {
   "cell_type": "code",
   "execution_count": 11,
   "id": "b1f555c4",
   "metadata": {},
   "outputs": [
    {
     "name": "stdout",
     "output_type": "stream",
     "text": [
      "Postfix Expression: 53+82-2*+\n",
      "Evaluation Result: 20\n"
     ]
    }
   ],
   "source": [
    "class Stack:\n",
    "    def __init__(self):\n",
    "        self.items = []\n",
    "\n",
    "    def push(self, item):\n",
    "        self.items.append(item)\n",
    "\n",
    "    def pop(self):\n",
    "        if not self.is_empty():\n",
    "            return self.items.pop()\n",
    "\n",
    "    def is_empty(self):\n",
    "        return len(self.items) == 0\n",
    "\n",
    "def evaluate_postfix(expression):\n",
    "    stack = Stack()\n",
    "    operators = set(['+', '-', '*', '/'])\n",
    "\n",
    "    for token in expression:\n",
    "        if token not in operators:\n",
    "            stack.push(int(token))\n",
    "        else:\n",
    "            operand2 = stack.pop()\n",
    "            operand1 = stack.pop()\n",
    "\n",
    "            if token == '+':\n",
    "                stack.push(operand1 + operand2)\n",
    "            elif token == '-':\n",
    "                stack.push(operand1 - operand2)\n",
    "            elif token == '*':\n",
    "                stack.push(operand1 * operand2)\n",
    "            elif token == '/':\n",
    "                stack.push(operand1 / operand2)\n",
    "\n",
    "    return stack.pop()\n",
    "\n",
    "if __name__ == \"__main__\":\n",
    "    postfix_expression = \"53+82-2*+\"\n",
    "    result = evaluate_postfix(postfix_expression)\n",
    "    print(\"Postfix Expression:\", postfix_expression)\n",
    "    print(\"Evaluation Result:\", result)\n"
   ]
  },
  {
   "cell_type": "markdown",
   "id": "18ae4d1f",
   "metadata": {},
   "source": [
    "10.Implement a queue using the stack data structureclass QueueUsingStack:\n",
    "    "
   ]
  },
  {
   "cell_type": "code",
   "execution_count": 16,
   "id": "82ca52e7",
   "metadata": {},
   "outputs": [
    {
     "name": "stdout",
     "output_type": "stream",
     "text": [
      "1\n",
      "2\n",
      "3\n",
      "4\n",
      "True\n"
     ]
    }
   ],
   "source": [
    "class QueueUsingStack:\n",
    "    def __init__(self):\n",
    "        self.enqueue_stack = []\n",
    "        self.dequeue_stack = []\n",
    "\n",
    "    def enqueue(self, item):\n",
    "        self.enqueue_stack.append(item)\n",
    "       \n",
    "\n",
    "    def dequeue(self):\n",
    "        if not self.dequeue_stack:\n",
    "            while self.enqueue_stack:\n",
    "                self.dequeue_stack.append(self.enqueue_stack.pop())\n",
    "        \n",
    "        if self.dequeue_stack:\n",
    "            return self.dequeue_stack.pop()\n",
    "\n",
    "    def is_empty(self):\n",
    "        return not self.enqueue_stack and not self.dequeue_stack\n",
    "\n",
    "    def size(self):\n",
    "        return len(self.enqueue_stack) + len(self.dequeue_stack)\n",
    "\n",
    "if __name__ == \"__main__\":\n",
    "    queue = QueueUsingStack()\n",
    "    queue.enqueue(1)\n",
    "    queue.enqueue(2)\n",
    "    queue.enqueue(3)\n",
    "\n",
    "    print(queue.dequeue())  \n",
    "    print(queue.dequeue())  \n",
    "    queue.enqueue(4)\n",
    "    print(queue.dequeue())\n",
    "    print(queue.dequeue()) \n",
    "    print(queue.is_empty())  \n"
   ]
  },
  {
   "cell_type": "code",
   "execution_count": null,
   "id": "78fc4362",
   "metadata": {},
   "outputs": [],
   "source": []
  }
 ],
 "metadata": {
  "kernelspec": {
   "display_name": "Python 3 (ipykernel)",
   "language": "python",
   "name": "python3"
  },
  "language_info": {
   "codemirror_mode": {
    "name": "ipython",
    "version": 3
   },
   "file_extension": ".py",
   "mimetype": "text/x-python",
   "name": "python",
   "nbconvert_exporter": "python",
   "pygments_lexer": "ipython3",
   "version": "3.11.3"
  }
 },
 "nbformat": 4,
 "nbformat_minor": 5
}
